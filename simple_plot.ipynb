{
 "cells": [
  {
   "cell_type": "code",
   "execution_count": 1,
   "id": "917a7c37-f7cd-4dce-b563-c29c53c037d3",
   "metadata": {},
   "outputs": [
    {
     "data": {
      "application/vnd.jupyter.widget-view+json": {
       "model_id": "133959f6832a497f98b5046d43305434",
       "version_major": 2,
       "version_minor": 0
      },
      "text/plain": [
       "FloatSlider(value=5.0, description='Frequency', max=10.0)"
      ]
     },
     "metadata": {},
     "output_type": "display_data"
    },
    {
     "data": {
      "application/vnd.jupyter.widget-view+json": {
       "model_id": "8a37d0149b3549b2acc39f9372f37bdf",
       "version_major": 2,
       "version_minor": 0
      },
      "text/plain": [
       "Canvas(toolbar=Toolbar(toolitems=[('Home', 'Reset original view', 'home', 'home'), ('Back', 'Back to previous …"
      ]
     },
     "metadata": {},
     "output_type": "display_data"
    }
   ],
   "source": [
    "import numpy as np\n",
    "import matplotlib.pyplot as plt\n",
    "import ipywidgets as widget\n",
    "\n",
    "\n",
    "%matplotlib widget\n",
    "slider_f = widget.FloatSlider(value = 5., min= 0., max = 10., step = 0.1, description = 'Frequency')\n",
    "display(slider_f)\n",
    "fig,ax = plt.subplots()\n",
    "ax.set_title('Sine plot')\n",
    "x=np.linspace(0,5.,300)\n",
    "line, = ax.plot(x,np.sin(2*np.pi*slider_f.value*x))\n",
    "def replot(change):\n",
    "    line.set_ydata(np.sin(2*np.pi*slider_f.value*x))\n",
    "    fig.canvas.draw()\n",
    "    \n",
    "    \n",
    "\n",
    "slider_f.observe(replot)\n"
   ]
  },
  {
   "cell_type": "code",
   "execution_count": null,
   "id": "d1fa1deb-eaaf-4094-935b-7750c38e0aae",
   "metadata": {},
   "outputs": [],
   "source": []
  }
 ],
 "metadata": {
  "kernelspec": {
   "display_name": "Python 3",
   "language": "python",
   "name": "python3"
  },
  "language_info": {
   "codemirror_mode": {
    "name": "ipython",
    "version": 3
   },
   "file_extension": ".py",
   "mimetype": "text/x-python",
   "name": "python",
   "nbconvert_exporter": "python",
   "pygments_lexer": "ipython3",
   "version": "3.8.8"
  }
 },
 "nbformat": 4,
 "nbformat_minor": 5
}
